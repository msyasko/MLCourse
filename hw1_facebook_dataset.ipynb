{
 "cells": [
  {
   "cell_type": "code",
   "execution_count": 19,
   "metadata": {},
   "outputs": [],
   "source": [
    "import numpy as np\n",
    "import pandas as pd"
   ]
  },
  {
   "cell_type": "code",
   "execution_count": 20,
   "metadata": {},
   "outputs": [],
   "source": [
    "df = pd.read_csv('./hw1_fb_dataset/Features_Variant_1.csv', header=None)"
   ]
  },
  {
   "cell_type": "code",
   "execution_count": 21,
   "metadata": {},
   "outputs": [
    {
     "data": {
      "text/html": [
       "<div>\n",
       "<style scoped>\n",
       "    .dataframe tbody tr th:only-of-type {\n",
       "        vertical-align: middle;\n",
       "    }\n",
       "\n",
       "    .dataframe tbody tr th {\n",
       "        vertical-align: top;\n",
       "    }\n",
       "\n",
       "    .dataframe thead th {\n",
       "        text-align: right;\n",
       "    }\n",
       "</style>\n",
       "<table border=\"1\" class=\"dataframe\">\n",
       "  <thead>\n",
       "    <tr style=\"text-align: right;\">\n",
       "      <th></th>\n",
       "      <th>0</th>\n",
       "      <th>1</th>\n",
       "      <th>2</th>\n",
       "      <th>3</th>\n",
       "      <th>4</th>\n",
       "      <th>5</th>\n",
       "      <th>6</th>\n",
       "      <th>7</th>\n",
       "      <th>8</th>\n",
       "      <th>9</th>\n",
       "      <th>...</th>\n",
       "      <th>44</th>\n",
       "      <th>45</th>\n",
       "      <th>46</th>\n",
       "      <th>47</th>\n",
       "      <th>48</th>\n",
       "      <th>49</th>\n",
       "      <th>50</th>\n",
       "      <th>51</th>\n",
       "      <th>52</th>\n",
       "      <th>53</th>\n",
       "    </tr>\n",
       "  </thead>\n",
       "  <tbody>\n",
       "    <tr>\n",
       "      <td>0</td>\n",
       "      <td>634995</td>\n",
       "      <td>0</td>\n",
       "      <td>463</td>\n",
       "      <td>1</td>\n",
       "      <td>0.0</td>\n",
       "      <td>806.0</td>\n",
       "      <td>11.291045</td>\n",
       "      <td>1.0</td>\n",
       "      <td>70.495138</td>\n",
       "      <td>0.0</td>\n",
       "      <td>...</td>\n",
       "      <td>0</td>\n",
       "      <td>0</td>\n",
       "      <td>0</td>\n",
       "      <td>0</td>\n",
       "      <td>0</td>\n",
       "      <td>0</td>\n",
       "      <td>0</td>\n",
       "      <td>0</td>\n",
       "      <td>1</td>\n",
       "      <td>0</td>\n",
       "    </tr>\n",
       "    <tr>\n",
       "      <td>1</td>\n",
       "      <td>634995</td>\n",
       "      <td>0</td>\n",
       "      <td>463</td>\n",
       "      <td>1</td>\n",
       "      <td>0.0</td>\n",
       "      <td>806.0</td>\n",
       "      <td>11.291045</td>\n",
       "      <td>1.0</td>\n",
       "      <td>70.495138</td>\n",
       "      <td>0.0</td>\n",
       "      <td>...</td>\n",
       "      <td>0</td>\n",
       "      <td>0</td>\n",
       "      <td>0</td>\n",
       "      <td>0</td>\n",
       "      <td>0</td>\n",
       "      <td>0</td>\n",
       "      <td>0</td>\n",
       "      <td>1</td>\n",
       "      <td>0</td>\n",
       "      <td>0</td>\n",
       "    </tr>\n",
       "    <tr>\n",
       "      <td>2</td>\n",
       "      <td>634995</td>\n",
       "      <td>0</td>\n",
       "      <td>463</td>\n",
       "      <td>1</td>\n",
       "      <td>0.0</td>\n",
       "      <td>806.0</td>\n",
       "      <td>11.291045</td>\n",
       "      <td>1.0</td>\n",
       "      <td>70.495138</td>\n",
       "      <td>0.0</td>\n",
       "      <td>...</td>\n",
       "      <td>1</td>\n",
       "      <td>0</td>\n",
       "      <td>0</td>\n",
       "      <td>0</td>\n",
       "      <td>0</td>\n",
       "      <td>0</td>\n",
       "      <td>0</td>\n",
       "      <td>0</td>\n",
       "      <td>1</td>\n",
       "      <td>0</td>\n",
       "    </tr>\n",
       "    <tr>\n",
       "      <td>3</td>\n",
       "      <td>634995</td>\n",
       "      <td>0</td>\n",
       "      <td>463</td>\n",
       "      <td>1</td>\n",
       "      <td>0.0</td>\n",
       "      <td>806.0</td>\n",
       "      <td>11.291045</td>\n",
       "      <td>1.0</td>\n",
       "      <td>70.495138</td>\n",
       "      <td>0.0</td>\n",
       "      <td>...</td>\n",
       "      <td>1</td>\n",
       "      <td>0</td>\n",
       "      <td>0</td>\n",
       "      <td>1</td>\n",
       "      <td>0</td>\n",
       "      <td>0</td>\n",
       "      <td>0</td>\n",
       "      <td>0</td>\n",
       "      <td>0</td>\n",
       "      <td>0</td>\n",
       "    </tr>\n",
       "    <tr>\n",
       "      <td>4</td>\n",
       "      <td>634995</td>\n",
       "      <td>0</td>\n",
       "      <td>463</td>\n",
       "      <td>1</td>\n",
       "      <td>0.0</td>\n",
       "      <td>806.0</td>\n",
       "      <td>11.291045</td>\n",
       "      <td>1.0</td>\n",
       "      <td>70.495138</td>\n",
       "      <td>0.0</td>\n",
       "      <td>...</td>\n",
       "      <td>0</td>\n",
       "      <td>0</td>\n",
       "      <td>0</td>\n",
       "      <td>0</td>\n",
       "      <td>0</td>\n",
       "      <td>1</td>\n",
       "      <td>0</td>\n",
       "      <td>0</td>\n",
       "      <td>0</td>\n",
       "      <td>0</td>\n",
       "    </tr>\n",
       "  </tbody>\n",
       "</table>\n",
       "<p>5 rows × 54 columns</p>\n",
       "</div>"
      ],
      "text/plain": [
       "       0   1    2   3    4      5          6    7          8    9   ...  44  \\\n",
       "0  634995   0  463   1  0.0  806.0  11.291045  1.0  70.495138  0.0  ...   0   \n",
       "1  634995   0  463   1  0.0  806.0  11.291045  1.0  70.495138  0.0  ...   0   \n",
       "2  634995   0  463   1  0.0  806.0  11.291045  1.0  70.495138  0.0  ...   1   \n",
       "3  634995   0  463   1  0.0  806.0  11.291045  1.0  70.495138  0.0  ...   1   \n",
       "4  634995   0  463   1  0.0  806.0  11.291045  1.0  70.495138  0.0  ...   0   \n",
       "\n",
       "   45  46  47  48  49  50  51  52  53  \n",
       "0   0   0   0   0   0   0   0   1   0  \n",
       "1   0   0   0   0   0   0   1   0   0  \n",
       "2   0   0   0   0   0   0   0   1   0  \n",
       "3   0   0   1   0   0   0   0   0   0  \n",
       "4   0   0   0   0   1   0   0   0   0  \n",
       "\n",
       "[5 rows x 54 columns]"
      ]
     },
     "execution_count": 21,
     "metadata": {},
     "output_type": "execute_result"
    }
   ],
   "source": [
    "df.head(5)"
   ]
  },
  {
   "cell_type": "code",
   "execution_count": 22,
   "metadata": {},
   "outputs": [
    {
     "data": {
      "text/html": [
       "<div>\n",
       "<style scoped>\n",
       "    .dataframe tbody tr th:only-of-type {\n",
       "        vertical-align: middle;\n",
       "    }\n",
       "\n",
       "    .dataframe tbody tr th {\n",
       "        vertical-align: top;\n",
       "    }\n",
       "\n",
       "    .dataframe thead th {\n",
       "        text-align: right;\n",
       "    }\n",
       "</style>\n",
       "<table border=\"1\" class=\"dataframe\">\n",
       "  <thead>\n",
       "    <tr style=\"text-align: right;\">\n",
       "      <th></th>\n",
       "      <th>0</th>\n",
       "      <th>1</th>\n",
       "      <th>2</th>\n",
       "      <th>3</th>\n",
       "      <th>4</th>\n",
       "      <th>5</th>\n",
       "      <th>6</th>\n",
       "      <th>7</th>\n",
       "      <th>8</th>\n",
       "      <th>9</th>\n",
       "      <th>...</th>\n",
       "      <th>44</th>\n",
       "      <th>45</th>\n",
       "      <th>46</th>\n",
       "      <th>47</th>\n",
       "      <th>48</th>\n",
       "      <th>49</th>\n",
       "      <th>50</th>\n",
       "      <th>51</th>\n",
       "      <th>52</th>\n",
       "      <th>53</th>\n",
       "    </tr>\n",
       "  </thead>\n",
       "  <tbody>\n",
       "    <tr>\n",
       "      <td>40944</td>\n",
       "      <td>7170111</td>\n",
       "      <td>70</td>\n",
       "      <td>497000</td>\n",
       "      <td>9</td>\n",
       "      <td>0.0</td>\n",
       "      <td>1881.0</td>\n",
       "      <td>497.2</td>\n",
       "      <td>269.0</td>\n",
       "      <td>502.318385</td>\n",
       "      <td>0.0</td>\n",
       "      <td>...</td>\n",
       "      <td>0</td>\n",
       "      <td>0</td>\n",
       "      <td>0</td>\n",
       "      <td>0</td>\n",
       "      <td>0</td>\n",
       "      <td>0</td>\n",
       "      <td>0</td>\n",
       "      <td>1</td>\n",
       "      <td>0</td>\n",
       "      <td>1</td>\n",
       "    </tr>\n",
       "    <tr>\n",
       "      <td>40945</td>\n",
       "      <td>7170111</td>\n",
       "      <td>70</td>\n",
       "      <td>497000</td>\n",
       "      <td>9</td>\n",
       "      <td>0.0</td>\n",
       "      <td>1881.0</td>\n",
       "      <td>497.2</td>\n",
       "      <td>269.0</td>\n",
       "      <td>502.318385</td>\n",
       "      <td>0.0</td>\n",
       "      <td>...</td>\n",
       "      <td>0</td>\n",
       "      <td>0</td>\n",
       "      <td>0</td>\n",
       "      <td>0</td>\n",
       "      <td>0</td>\n",
       "      <td>0</td>\n",
       "      <td>0</td>\n",
       "      <td>1</td>\n",
       "      <td>0</td>\n",
       "      <td>2</td>\n",
       "    </tr>\n",
       "    <tr>\n",
       "      <td>40946</td>\n",
       "      <td>7170111</td>\n",
       "      <td>70</td>\n",
       "      <td>497000</td>\n",
       "      <td>9</td>\n",
       "      <td>0.0</td>\n",
       "      <td>1881.0</td>\n",
       "      <td>497.2</td>\n",
       "      <td>269.0</td>\n",
       "      <td>502.318385</td>\n",
       "      <td>0.0</td>\n",
       "      <td>...</td>\n",
       "      <td>0</td>\n",
       "      <td>0</td>\n",
       "      <td>0</td>\n",
       "      <td>0</td>\n",
       "      <td>0</td>\n",
       "      <td>0</td>\n",
       "      <td>1</td>\n",
       "      <td>0</td>\n",
       "      <td>0</td>\n",
       "      <td>72</td>\n",
       "    </tr>\n",
       "    <tr>\n",
       "      <td>40947</td>\n",
       "      <td>7170111</td>\n",
       "      <td>70</td>\n",
       "      <td>497000</td>\n",
       "      <td>9</td>\n",
       "      <td>0.0</td>\n",
       "      <td>1881.0</td>\n",
       "      <td>497.2</td>\n",
       "      <td>269.0</td>\n",
       "      <td>502.318385</td>\n",
       "      <td>0.0</td>\n",
       "      <td>...</td>\n",
       "      <td>0</td>\n",
       "      <td>0</td>\n",
       "      <td>0</td>\n",
       "      <td>0</td>\n",
       "      <td>0</td>\n",
       "      <td>0</td>\n",
       "      <td>0</td>\n",
       "      <td>1</td>\n",
       "      <td>0</td>\n",
       "      <td>28</td>\n",
       "    </tr>\n",
       "    <tr>\n",
       "      <td>40948</td>\n",
       "      <td>7170111</td>\n",
       "      <td>70</td>\n",
       "      <td>497000</td>\n",
       "      <td>9</td>\n",
       "      <td>0.0</td>\n",
       "      <td>1881.0</td>\n",
       "      <td>497.2</td>\n",
       "      <td>269.0</td>\n",
       "      <td>502.318385</td>\n",
       "      <td>0.0</td>\n",
       "      <td>...</td>\n",
       "      <td>0</td>\n",
       "      <td>0</td>\n",
       "      <td>0</td>\n",
       "      <td>0</td>\n",
       "      <td>0</td>\n",
       "      <td>0</td>\n",
       "      <td>0</td>\n",
       "      <td>1</td>\n",
       "      <td>0</td>\n",
       "      <td>11</td>\n",
       "    </tr>\n",
       "  </tbody>\n",
       "</table>\n",
       "<p>5 rows × 54 columns</p>\n",
       "</div>"
      ],
      "text/plain": [
       "            0   1       2   3    4       5      6      7           8    9   \\\n",
       "40944  7170111  70  497000   9  0.0  1881.0  497.2  269.0  502.318385  0.0   \n",
       "40945  7170111  70  497000   9  0.0  1881.0  497.2  269.0  502.318385  0.0   \n",
       "40946  7170111  70  497000   9  0.0  1881.0  497.2  269.0  502.318385  0.0   \n",
       "40947  7170111  70  497000   9  0.0  1881.0  497.2  269.0  502.318385  0.0   \n",
       "40948  7170111  70  497000   9  0.0  1881.0  497.2  269.0  502.318385  0.0   \n",
       "\n",
       "       ...  44  45  46  47  48  49  50  51  52  53  \n",
       "40944  ...   0   0   0   0   0   0   0   1   0   1  \n",
       "40945  ...   0   0   0   0   0   0   0   1   0   2  \n",
       "40946  ...   0   0   0   0   0   0   1   0   0  72  \n",
       "40947  ...   0   0   0   0   0   0   0   1   0  28  \n",
       "40948  ...   0   0   0   0   0   0   0   1   0  11  \n",
       "\n",
       "[5 rows x 54 columns]"
      ]
     },
     "execution_count": 22,
     "metadata": {},
     "output_type": "execute_result"
    }
   ],
   "source": [
    "df.tail(5)"
   ]
  },
  {
   "cell_type": "code",
   "execution_count": 23,
   "metadata": {},
   "outputs": [
    {
     "data": {
      "text/plain": [
       "(40949, 54)"
      ]
     },
     "execution_count": 23,
     "metadata": {},
     "output_type": "execute_result"
    }
   ],
   "source": [
    "df.shape"
   ]
  },
  {
   "cell_type": "code",
   "execution_count": 24,
   "metadata": {},
   "outputs": [],
   "source": [
    "y = df[53].values\n",
    "x = df.drop(53, axis=1).values"
   ]
  },
  {
   "cell_type": "code",
   "execution_count": 25,
   "metadata": {},
   "outputs": [],
   "source": [
    "for column_idx in range(x.shape[1]):\n",
    "    feature = x[:, column_idx]\n",
    "    std = np.std(feature)\n",
    "    if std < 1e-15:\n",
    "        std = 1e-15\n",
    "    x[:, column_idx] = (feature - np.mean(feature)) / std"
   ]
  },
  {
   "cell_type": "code",
   "execution_count": 26,
   "metadata": {},
   "outputs": [],
   "source": [
    "def h(x, w0, w):\n",
    "    return w0 + np.dot(x, w)\n",
    "\n",
    "\n",
    "def H(X, w0, w):\n",
    "    return w0 + np.dot(X, w)\n",
    "\n",
    "\n",
    "def test_h():\n",
    "    assert(h([0, 1, 2], 1, [1, 2, 5]) == 13)\n",
    "    \n",
    "    X = [\n",
    "        [1, 0, 0, 4],\n",
    "        [0, 2, 0, 4],\n",
    "        [0, 0, 3, 4]\n",
    "    ]\n",
    "    \n",
    "    w = [1, 1, 1, 2]\n",
    "    assert(np.all(H(X, 1, w) == [10, 11, 12]))\n",
    "    \n",
    "test_h()"
   ]
  },
  {
   "cell_type": "code",
   "execution_count": 27,
   "metadata": {},
   "outputs": [],
   "source": [
    "def dL_dw0(X, w0, w, delta):\n",
    "    return - 2 * np.sum(delta) / float(X.shape[0])\n",
    "\n",
    "def dL_dw(X, w0, w, delta):\n",
    "    return - 2 * np.ravel(np.sum((X.T * delta), axis=1)) / float(X.shape[0])"
   ]
  },
  {
   "cell_type": "code",
   "execution_count": 28,
   "metadata": {},
   "outputs": [],
   "source": [
    "def MSE(y_true, y_pred):\n",
    "    return np.sum((y_true - y_pred) ** 2) / float(y_true.shape[0])\n",
    "\n",
    "def RMSE(y_true, y_pred):\n",
    "    return np.sqrt(MSE(y_true, y_pred))\n",
    "\n",
    "def R2(y_true, y_pred):\n",
    "    return 1. - MSE(y_true, y_pred) / MSE(y_true, np.mean(y_true) * np.ones(shape=y_true.shape))"
   ]
  },
  {
   "cell_type": "code",
   "execution_count": 42,
   "metadata": {},
   "outputs": [],
   "source": [
    "def grad_desc(X_train, y_train, X_test, y_test):\n",
    "    w0 = 0\n",
    "    w = np.random.normal(0, 0.0001, size=X_train.shape[1])\n",
    "    \n",
    "    n_iter = 10000\n",
    "    step_size = 1e-3\n",
    "    batch_size = 200\n",
    "    \n",
    "    lambda_ = 1e-6\n",
    "    \n",
    "    grad_w0 = 0\n",
    "    grad_w = np.zeros(shape=w.shape)\n",
    "        \n",
    "    for i in range(n_iter):\n",
    "        batch_indexes = np.random.choice(np.arange(X_train.shape[0]), size=batch_size, replace=False)\n",
    "        X_batch = X_train[batch_indexes, :]\n",
    "        y_batch = y_train[batch_indexes]\n",
    "\n",
    "        if i % 1000 == 0:\n",
    "            rmse_train = RMSE(y_train, H(X_train, w0, w))\n",
    "            rmse_test = RMSE(y_test, H(X_test, w0, w))\n",
    "\n",
    "            print('{}: RMSE(train) = {} \\t RMSE(test) = {}'.format(\n",
    "                i, round(rmse_train, ndigits=4), round(rmse_test, ndigits=4)\n",
    "            ))\n",
    "    \n",
    "        y_pred = H(X_batch, w0, w)\n",
    "        delta = np.transpose(y_batch - y_pred)\n",
    "\n",
    "        w0 = w0 - step_size * dL_dw0(X_batch, w0, w, delta)\n",
    "        w = w - step_size * (dL_dw(X_batch, w0, w, delta)) - lambda_ * w\n",
    "    \n",
    "    return w0, w"
   ]
  },
  {
   "cell_type": "code",
   "execution_count": 43,
   "metadata": {},
   "outputs": [],
   "source": [
    "def CV(X, y, n_folds):\n",
    "    fold_indexes = np.random.randint(0, n_folds, X.shape[0])\n",
    "    \n",
    "    metrics = []\n",
    "    \n",
    "    folds = []\n",
    "    for i in range(n_folds):\n",
    "        indexes = np.where(fold_indexes == i)\n",
    "        x_slice = X[indexes]\n",
    "        y_slice = y[indexes]\n",
    "        \n",
    "        indexes = np.where(fold_indexes != i)\n",
    "        x_not_slice = X[indexes]\n",
    "        y_not_slice = y[indexes]\n",
    "        \n",
    "        folds.append((x_slice, y_slice, x_not_slice, y_not_slice))\n",
    "        \n",
    "    for i in range(n_folds):\n",
    "        x_val = folds[i][0]\n",
    "        y_val = folds[i][1]\n",
    "        x_learn = folds[i][2]\n",
    "        y_learn = folds[i][3]\n",
    "        \n",
    "        w0, w = grad_desc(x_learn, y_learn, x_val, y_val)\n",
    "        \n",
    "        y_pred = H(x_val, w0, w)\n",
    "        \n",
    "        r2 = R2(y_val, y_pred)\n",
    "        metrics.append(r2)\n",
    "        print('fold index ' + str(i) + ': r2 = ' + str(r2))\n",
    "    \n",
    "    return metrics"
   ]
  },
  {
   "cell_type": "code",
   "execution_count": 44,
   "metadata": {
    "scrolled": false
   },
   "outputs": [
    {
     "name": "stdout",
     "output_type": "stream",
     "text": [
      "0: RMSE(train) = 36.2103 \t RMSE(test) = 36.3683\n",
      "1000: RMSE(train) = 29.3745 \t RMSE(test) = 29.7855\n",
      "2000: RMSE(train) = 29.2804 \t RMSE(test) = 29.8186\n",
      "3000: RMSE(train) = 29.2404 \t RMSE(test) = 30.0184\n",
      "4000: RMSE(train) = 29.2559 \t RMSE(test) = 30.1824\n",
      "5000: RMSE(train) = 29.2287 \t RMSE(test) = 30.3428\n",
      "6000: RMSE(train) = 29.2438 \t RMSE(test) = 30.1354\n",
      "7000: RMSE(train) = 29.2074 \t RMSE(test) = 29.9075\n",
      "8000: RMSE(train) = 29.2038 \t RMSE(test) = 29.8134\n",
      "9000: RMSE(train) = 29.2044 \t RMSE(test) = 30.0016\n",
      "fold index 0: r2 = 0.28933752232915455\n",
      "0: RMSE(train) = 36.029 \t RMSE(test) = 37.0844\n",
      "1000: RMSE(train) = 28.8112 \t RMSE(test) = 31.7956\n",
      "2000: RMSE(train) = 28.7222 \t RMSE(test) = 31.8738\n",
      "3000: RMSE(train) = 28.6764 \t RMSE(test) = 31.8725\n",
      "4000: RMSE(train) = 28.635 \t RMSE(test) = 31.8133\n",
      "5000: RMSE(train) = 28.6255 \t RMSE(test) = 31.7531\n",
      "6000: RMSE(train) = 28.6637 \t RMSE(test) = 31.8842\n",
      "7000: RMSE(train) = 28.6126 \t RMSE(test) = 31.8301\n",
      "8000: RMSE(train) = 28.6065 \t RMSE(test) = 31.8233\n",
      "9000: RMSE(train) = 28.599 \t RMSE(test) = 31.7795\n",
      "fold index 1: r2 = 0.2327671436007721\n",
      "0: RMSE(train) = 36.0898 \t RMSE(test) = 36.8403\n",
      "1000: RMSE(train) = 29.1641 \t RMSE(test) = 30.6303\n",
      "2000: RMSE(train) = 29.066 \t RMSE(test) = 30.485\n",
      "3000: RMSE(train) = 29.0194 \t RMSE(test) = 30.488\n",
      "4000: RMSE(train) = 29.0161 \t RMSE(test) = 30.5272\n",
      "5000: RMSE(train) = 28.9665 \t RMSE(test) = 30.483\n",
      "6000: RMSE(train) = 29.0118 \t RMSE(test) = 30.4876\n",
      "7000: RMSE(train) = 28.9712 \t RMSE(test) = 30.4611\n",
      "8000: RMSE(train) = 28.9563 \t RMSE(test) = 30.5104\n",
      "9000: RMSE(train) = 28.95 \t RMSE(test) = 30.4583\n",
      "fold index 2: r2 = 0.28488353511088016\n",
      "0: RMSE(train) = 36.119 \t RMSE(test) = 36.721\n",
      "1000: RMSE(train) = 29.7601 \t RMSE(test) = 28.3988\n",
      "2000: RMSE(train) = 29.6724 \t RMSE(test) = 28.162\n",
      "3000: RMSE(train) = 29.6817 \t RMSE(test) = 28.0066\n",
      "4000: RMSE(train) = 29.6384 \t RMSE(test) = 28.1811\n",
      "5000: RMSE(train) = 29.6417 \t RMSE(test) = 28.1802\n",
      "6000: RMSE(train) = 29.6391 \t RMSE(test) = 28.122\n",
      "7000: RMSE(train) = 29.6338 \t RMSE(test) = 27.9646\n",
      "8000: RMSE(train) = 29.6178 \t RMSE(test) = 28.0742\n",
      "9000: RMSE(train) = 29.6372 \t RMSE(test) = 27.9719\n",
      "fold index 3: r2 = 0.383343288235523\n",
      "0: RMSE(train) = 36.7546 \t RMSE(test) = 34.0987\n",
      "1000: RMSE(train) = 29.9518 \t RMSE(test) = 27.4029\n",
      "2000: RMSE(train) = 29.8575 \t RMSE(test) = 27.4648\n",
      "3000: RMSE(train) = 29.7974 \t RMSE(test) = 27.8661\n",
      "4000: RMSE(train) = 29.7902 \t RMSE(test) = 28.0424\n",
      "5000: RMSE(train) = 29.7681 \t RMSE(test) = 27.9788\n",
      "6000: RMSE(train) = 29.7569 \t RMSE(test) = 28.3984\n",
      "7000: RMSE(train) = 29.7527 \t RMSE(test) = 28.4962\n",
      "8000: RMSE(train) = 29.749 \t RMSE(test) = 28.6257\n",
      "9000: RMSE(train) = 29.7386 \t RMSE(test) = 28.3422\n",
      "fold index 4: r2 = 0.2789120229922468\n"
     ]
    },
    {
     "data": {
      "text/plain": [
       "[0.28933752232915455,\n",
       " 0.2327671436007721,\n",
       " 0.28488353511088016,\n",
       " 0.383343288235523,\n",
       " 0.2789120229922468]"
      ]
     },
     "execution_count": 44,
     "metadata": {},
     "output_type": "execute_result"
    }
   ],
   "source": [
    "CV(x, y, n_folds=5)"
   ]
  },
  {
   "cell_type": "code",
   "execution_count": 45,
   "metadata": {},
   "outputs": [
    {
     "data": {
      "text/plain": [
       "0.2938487024537153"
      ]
     },
     "execution_count": 45,
     "metadata": {},
     "output_type": "execute_result"
    }
   ],
   "source": [
    "np.mean([0.28933752232915455,\n",
    " 0.2327671436007721,\n",
    " 0.28488353511088016,\n",
    " 0.383343288235523,\n",
    " 0.2789120229922468])"
   ]
  },
  {
   "cell_type": "code",
   "execution_count": null,
   "metadata": {},
   "outputs": [],
   "source": []
  },
  {
   "cell_type": "code",
   "execution_count": null,
   "metadata": {},
   "outputs": [],
   "source": []
  },
  {
   "cell_type": "code",
   "execution_count": null,
   "metadata": {},
   "outputs": [],
   "source": []
  },
  {
   "cell_type": "code",
   "execution_count": null,
   "metadata": {},
   "outputs": [],
   "source": []
  },
  {
   "cell_type": "code",
   "execution_count": null,
   "metadata": {},
   "outputs": [],
   "source": []
  },
  {
   "cell_type": "code",
   "execution_count": null,
   "metadata": {},
   "outputs": [],
   "source": []
  },
  {
   "cell_type": "code",
   "execution_count": null,
   "metadata": {},
   "outputs": [],
   "source": []
  },
  {
   "cell_type": "code",
   "execution_count": 13,
   "metadata": {},
   "outputs": [],
   "source": [
    "%matplotlib inline\n",
    "from matplotlib import pyplot as plt\n",
    "\n",
    "def draw(x, y):\n",
    "    plt.figure()\n",
    "    k,b = np.polyfit(x, y, 1)\n",
    "    plt.scatter(x, y)\n",
    "    \n",
    "    x_min = np.min(x)\n",
    "    x_max = np.max(x)\n",
    "    y_0 = k * x_min + b\n",
    "    y_1 = k * x_max + b\n",
    "    plt.plot([x_min, x_max], [y_0, y_1], 'r')\n",
    "    plt.show()"
   ]
  },
  {
   "cell_type": "code",
   "execution_count": 14,
   "metadata": {},
   "outputs": [],
   "source": [
    "def hist(x):\n",
    "    x_min = np.min(x)\n",
    "    x_max = np.max(x)\n",
    "\n",
    "    ps = [0.05, 0.1, 0.25, 0.5, 0.75, 0.9, 0.95]\n",
    "    \n",
    "    quantiles = []\n",
    "    for p in ps:\n",
    "        quantiles.append(np.quantile(x, p))\n",
    "    \n",
    "    print('xmin, xmax = {}, {}'.format(x_min, x_max))\n",
    "    print(quantiles)\n",
    "    plt.boxplot(x)\n",
    "    plt.show()"
   ]
  },
  {
   "cell_type": "code",
   "execution_count": 15,
   "metadata": {},
   "outputs": [],
   "source": [
    "def logx(x):\n",
    "    if np.any(x < 0.):\n",
    "        return np.log(abs(x) + 1)\n",
    "        print('x less 0')\n",
    "    elif np.any(x == 0):\n",
    "        return np.log(x + 1)\n",
    "    else:\n",
    "        return np.log(x)"
   ]
  },
  {
   "cell_type": "code",
   "execution_count": 29,
   "metadata": {},
   "outputs": [],
   "source": [
    "def norm_sqr(x):\n",
    "    return (x - np.mean(x)) * (x - np.mean(x))\n",
    "\n",
    "def norm_zscaling(x):\n",
    "    disp = np.std(x)**2\n",
    "    return (x - np.mean(x))/disp"
   ]
  },
  {
   "cell_type": "code",
   "execution_count": 17,
   "metadata": {},
   "outputs": [],
   "source": [
    "ly = logx(y)"
   ]
  },
  {
   "cell_type": "code",
   "execution_count": 18,
   "metadata": {},
   "outputs": [],
   "source": [
    "from IPython.core.interactiveshell import InteractiveShell\n",
    "InteractiveShell.ast_node_interactivity = \"all\""
   ]
  },
  {
   "cell_type": "code",
   "execution_count": 30,
   "metadata": {},
   "outputs": [],
   "source": [
    "class ChoiceType:\n",
    "    DrawXY = 0\n",
    "    DrawHist = 1\n",
    "    LogX = 2\n",
    "    LogNormAbs = 3\n",
    "    LogNormSqr = 4\n",
    "    ZScaling = 5\n",
    "    End = 6\n",
    "\n",
    "    \n",
    "def process_feature(x, y):\n",
    "    choice = 0\n",
    "    x_temp = x\n",
    "\n",
    "    while choice != ChoiceType.End:\n",
    "        print('type for drawXY={}, histX={}, log={}, logAbs={}, logSqr={}, zScal={}'.format(\n",
    "            ChoiceType.DrawXY, ChoiceType.DrawHist, ChoiceType.LogX, ChoiceType.LogNormAbs, ChoiceType.LogNormSqr, ChoiceType.ZScaling))\n",
    "        choice = int(input())\n",
    "        \n",
    "        if choice == ChoiceType.DrawXY:\n",
    "            draw(x_temp, y)\n",
    "        elif choice == ChoiceType.DrawHist:\n",
    "            hist(x_temp)\n",
    "        elif choice == ChoiceType.LogX:\n",
    "            x_temp = logx(x)\n",
    "            draw(x_temp, y)\n",
    "        elif choice == ChoiceType.LogNormAbs:\n",
    "            x_temp = logx(norm_abs(x))\n",
    "            draw(x_temp, y)\n",
    "        elif choice == ChoiceType.LogNormSqr:\n",
    "            x_temp = logx(norm_sqr(x))\n",
    "            draw(x_temp, y)\n",
    "        elif choice == ChoiceType.ZScaling:\n",
    "            x_temp = norm_zscaling(x)\n",
    "            draw(x_temp, y)\n",
    "    \n",
    "    return x_temp"
   ]
  },
  {
   "cell_type": "code",
   "execution_count": 31,
   "metadata": {
    "scrolled": true
   },
   "outputs": [
    {
     "name": "stdout",
     "output_type": "stream",
     "text": [
      "process feature 0\n",
      "type for drawXY=0, histX=1, log=2, logAbs=3, logSqr=4, zScal=5\n",
      "5\n"
     ]
    },
    {
     "data": {
      "image/png": "[encoded data removed]",
      "text/plain": [
       "<Figure size 432x288 with 1 Axes>"
      ]
     },
     "metadata": {
      "needs_background": "light"
     },
     "output_type": "display_data"
    },
    {
     "name": "stdout",
     "output_type": "stream",
     "text": [
      "type for drawXY=0, histX=1, log=2, logAbs=3, logSqr=4, zScal=5\n",
      "5\n"
     ]
    },
    {
     "data": {
      "image/png": "[encoded data removed]",
      "text/plain": [
       "<Figure size 432x288 with 1 Axes>"
      ]
     },
     "metadata": {
      "needs_background": "light"
     },
     "output_type": "display_data"
    },
    {
     "name": "stdout",
     "output_type": "stream",
     "text": [
      "type for drawXY=0, histX=1, log=2, logAbs=3, logSqr=4, zScal=5\n",
      "5\n"
     ]
    },
    {
     "data": {
      "image/png": "[encoded data removed]",
      "text/plain": [
       "<Figure size 432x288 with 1 Axes>"
      ]
     },
     "metadata": {
      "needs_background": "light"
     },
     "output_type": "display_data"
    },
    {
     "name": "stdout",
     "output_type": "stream",
     "text": [
      "type for drawXY=0, histX=1, log=2, logAbs=3, logSqr=4, zScal=5\n",
      "5\n"
     ]
    },
    {
     "data": {
      "image/png": "[encoded data removed]",
      "text/plain": [
       "<Figure size 432x288 with 1 Axes>"
      ]
     },
     "metadata": {
      "needs_background": "light"
     },
     "output_type": "display_data"
    },
    {
     "name": "stdout",
     "output_type": "stream",
     "text": [
      "type for drawXY=0, histX=1, log=2, logAbs=3, logSqr=4, zScal=5\n",
      "5\n"
     ]
    },
    {
     "data": {
      "image/png": "[encoded data removed]",
      "text/plain": [
       "<Figure size 432x288 with 1 Axes>"
      ]
     },
     "metadata": {
      "needs_background": "light"
     },
     "output_type": "display_data"
    },
    {
     "name": "stdout",
     "output_type": "stream",
     "text": [
      "type for drawXY=0, histX=1, log=2, logAbs=3, logSqr=4, zScal=5\n",
      "\n"
     ]
    },
    {
     "ename": "ValueError",
     "evalue": "invalid literal for int() with base 10: ''",
     "output_type": "error",
     "traceback": [
      "\u001b[0;31m---------------------------------------------------------------------------\u001b[0m",
      "\u001b[0;31mValueError\u001b[0m                                Traceback (most recent call last)",
      "\u001b[0;32m<ipython-input-31-589bb4d7c833>\u001b[0m in \u001b[0;36m<module>\u001b[0;34m\u001b[0m\n\u001b[1;32m      6\u001b[0m \u001b[0;34m\u001b[0m\u001b[0m\n\u001b[1;32m      7\u001b[0m \u001b[0;34m\u001b[0m\u001b[0m\n\u001b[0;32m----> 8\u001b[0;31m \u001b[0mfor_each_feature\u001b[0m\u001b[0;34m(\u001b[0m\u001b[0mx\u001b[0m\u001b[0;34m.\u001b[0m\u001b[0mcopy\u001b[0m\u001b[0;34m(\u001b[0m\u001b[0;34m)\u001b[0m\u001b[0;34m,\u001b[0m \u001b[0mly\u001b[0m\u001b[0;34m)\u001b[0m\u001b[0;34m\u001b[0m\u001b[0;34m\u001b[0m\u001b[0m\n\u001b[0m",
      "\u001b[0;32m<ipython-input-31-589bb4d7c833>\u001b[0m in \u001b[0;36mfor_each_feature\u001b[0;34m(x, y)\u001b[0m\n\u001b[1;32m      2\u001b[0m     \u001b[0;32mfor\u001b[0m \u001b[0mi\u001b[0m \u001b[0;32min\u001b[0m \u001b[0mrange\u001b[0m\u001b[0;34m(\u001b[0m\u001b[0;36m39\u001b[0m\u001b[0;34m)\u001b[0m\u001b[0;34m:\u001b[0m\u001b[0;34m\u001b[0m\u001b[0;34m\u001b[0m\u001b[0m\n\u001b[1;32m      3\u001b[0m         \u001b[0mprint\u001b[0m\u001b[0;34m(\u001b[0m\u001b[0;34m'process feature '\u001b[0m \u001b[0;34m+\u001b[0m \u001b[0mstr\u001b[0m\u001b[0;34m(\u001b[0m\u001b[0mi\u001b[0m\u001b[0;34m)\u001b[0m\u001b[0;34m)\u001b[0m\u001b[0;34m\u001b[0m\u001b[0;34m\u001b[0m\u001b[0m\n\u001b[0;32m----> 4\u001b[0;31m         \u001b[0mx\u001b[0m\u001b[0;34m[\u001b[0m\u001b[0;34m:\u001b[0m\u001b[0;34m,\u001b[0m \u001b[0mi\u001b[0m\u001b[0;34m]\u001b[0m \u001b[0;34m=\u001b[0m \u001b[0mprocess_feature\u001b[0m\u001b[0;34m(\u001b[0m\u001b[0mx\u001b[0m\u001b[0;34m[\u001b[0m\u001b[0;34m:\u001b[0m\u001b[0;34m,\u001b[0m \u001b[0mi\u001b[0m\u001b[0;34m]\u001b[0m\u001b[0;34m,\u001b[0m \u001b[0my\u001b[0m\u001b[0;34m)\u001b[0m\u001b[0;34m\u001b[0m\u001b[0;34m\u001b[0m\u001b[0m\n\u001b[0m\u001b[1;32m      5\u001b[0m     \u001b[0;32mreturn\u001b[0m \u001b[0mx\u001b[0m\u001b[0;34m\u001b[0m\u001b[0;34m\u001b[0m\u001b[0m\n\u001b[1;32m      6\u001b[0m \u001b[0;34m\u001b[0m\u001b[0m\n",
      "\u001b[0;32m<ipython-input-30-402fa50079bd>\u001b[0m in \u001b[0;36mprocess_feature\u001b[0;34m(x, y)\u001b[0m\n\u001b[1;32m     16\u001b[0m         print('type for drawXY={}, histX={}, log={}, logAbs={}, logSqr={}, zScal={}'.format(\n\u001b[1;32m     17\u001b[0m             ChoiceType.DrawXY, ChoiceType.DrawHist, ChoiceType.LogX, ChoiceType.LogNormAbs, ChoiceType.LogNormSqr, ChoiceType.ZScaling))\n\u001b[0;32m---> 18\u001b[0;31m         \u001b[0mchoice\u001b[0m \u001b[0;34m=\u001b[0m \u001b[0mint\u001b[0m\u001b[0;34m(\u001b[0m\u001b[0minput\u001b[0m\u001b[0;34m(\u001b[0m\u001b[0;34m)\u001b[0m\u001b[0;34m)\u001b[0m\u001b[0;34m\u001b[0m\u001b[0;34m\u001b[0m\u001b[0m\n\u001b[0m\u001b[1;32m     19\u001b[0m \u001b[0;34m\u001b[0m\u001b[0m\n\u001b[1;32m     20\u001b[0m         \u001b[0;32mif\u001b[0m \u001b[0mchoice\u001b[0m \u001b[0;34m==\u001b[0m \u001b[0mChoiceType\u001b[0m\u001b[0;34m.\u001b[0m\u001b[0mDrawXY\u001b[0m\u001b[0;34m:\u001b[0m\u001b[0;34m\u001b[0m\u001b[0;34m\u001b[0m\u001b[0m\n",
      "\u001b[0;31mValueError\u001b[0m: invalid literal for int() with base 10: ''"
     ]
    }
   ],
   "source": [
    "def for_each_feature(x, y):\n",
    "    for i in range(39):\n",
    "        print('process feature ' + str(i))\n",
    "        x[:, i] = process_feature(x[:, i], y)\n",
    "    return x\n",
    "\n",
    "\n",
    "for_each_feature(x.copy(), ly)"
   ]
  },
  {
   "cell_type": "markdown",
   "metadata": {
    "scrolled": true
   },
   "source": [
    "##### def for_each_feature(x, y):\n",
    "    for i in range(24, 39):\n",
    "        print('process feature ' + str(i))\n",
    "        x[:, i] = process_feature(x[:, i], y)\n",
    "    return x\n",
    "\n",
    "\n",
    "for_each_feature(x.copy(), ly)"
   ]
  },
  {
   "cell_type": "code",
   "execution_count": 184,
   "metadata": {},
   "outputs": [
    {
     "data": {
      "image/png": "[encoded data removed]",
      "text/plain": [
       "<Figure size 432x288 with 1 Axes>"
      ]
     },
     "metadata": {
      "needs_background": "light"
     },
     "output_type": "display_data"
    }
   ],
   "source": [
    "draw(logx(x[:,38]), ly)"
   ]
  },
  {
   "cell_type": "code",
   "execution_count": 188,
   "metadata": {},
   "outputs": [],
   "source": [
    "for i in range(39):\n",
    "    if i == 37:\n",
    "        continue\n",
    "    x[:,i] = logx(x[:,i])"
   ]
  },
  {
   "cell_type": "code",
   "execution_count": 151,
   "metadata": {},
   "outputs": [],
   "source": [
    "x[:, 0] = logx(df[0])"
   ]
  },
  {
   "cell_type": "code",
   "execution_count": 145,
   "metadata": {},
   "outputs": [
    {
     "data": {
      "text/plain": [
       "(None, None)"
      ]
     },
     "execution_count": 145,
     "metadata": {},
     "output_type": "execute_result"
    },
    {
     "data": {
      "image/png": "[encoded data removed]",
      "text/plain": [
       "<Figure size 432x288 with 1 Axes>"
      ]
     },
     "metadata": {
      "needs_background": "light"
     },
     "output_type": "display_data"
    }
   ],
   "source": [
    "draw(logx(norm_abs(df[1])), ly), draw(logx(norm_sqr(df[1])), ly)"
   ]
  },
  {
   "cell_type": "code",
   "execution_count": 147,
   "metadata": {},
   "outputs": [],
   "source": [
    "x[:,1] = logx(norm_sqr(df[1]))"
   ]
  },
  {
   "cell_type": "code",
   "execution_count": 97,
   "metadata": {},
   "outputs": [
    {
     "name": "stdout",
     "output_type": "stream",
     "text": [
      "xmin, xmax = 0.0, 12.135494589730756\n",
      "[0.0, 0.0, 0.0, 0.0, 4.605170185988092, 7.952615111651, 10.233007103729488]\n"
     ]
    },
    {
     "data": {
      "image/png": "[encoded data removed]",
      "text/plain": [
       "<Figure size 432x288 with 1 Axes>"
      ]
     },
     "metadata": {
      "needs_background": "light"
     },
     "output_type": "display_data"
    }
   ],
   "source": [
    "hist(logx(df[1]))"
   ]
  },
  {
   "cell_type": "code",
   "execution_count": 88,
   "metadata": {},
   "outputs": [
    {
     "data": {
      "text/plain": [
       "24    40171\n",
       "1        49\n",
       "2        43\n",
       "19       40\n",
       "3        40\n",
       "17       39\n",
       "9        37\n",
       "23       36\n",
       "22       35\n",
       "6        35\n",
       "11       34\n",
       "20       34\n",
       "10       33\n",
       "15       33\n",
       "16       32\n",
       "12       32\n",
       "21       30\n",
       "4        30\n",
       "14       29\n",
       "5        29\n",
       "18       29\n",
       "13       28\n",
       "8        27\n",
       "7        24\n",
       "Name: 38, dtype: int64"
      ]
     },
     "execution_count": 88,
     "metadata": {},
     "output_type": "execute_result"
    }
   ],
   "source": [
    "df[38].value_counts()"
   ]
  },
  {
   "cell_type": "code",
   "execution_count": 89,
   "metadata": {},
   "outputs": [
    {
     "data": {
      "image/png": "[encoded data removed]",
      "text/plain": [
       "<Figure size 432x288 with 1 Axes>"
      ]
     },
     "metadata": {
      "needs_background": "light"
     },
     "output_type": "display_data"
    }
   ],
   "source": [
    "draw(df[38], y)"
   ]
  },
  {
   "cell_type": "code",
   "execution_count": 90,
   "metadata": {},
   "outputs": [
    {
     "data": {
      "text/plain": [
       "0        1\n",
       "1        1\n",
       "2        1\n",
       "3        1\n",
       "4        1\n",
       "        ..\n",
       "40944    9\n",
       "40945    9\n",
       "40946    9\n",
       "40947    9\n",
       "40948    9\n",
       "Name: 3, Length: 40949, dtype: int64"
      ]
     },
     "execution_count": 90,
     "metadata": {},
     "output_type": "execute_result"
    }
   ],
   "source": [
    "df[3]"
   ]
  },
  {
   "cell_type": "code",
   "execution_count": 92,
   "metadata": {},
   "outputs": [
    {
     "name": "stdout",
     "output_type": "stream",
     "text": [
      "xmin, xmax = 0.0, 2341.0\n",
      "[5.0, 14.0, 45.0, 241.0, 717.0, 1225.0, 1406.0]\n"
     ]
    },
    {
     "data": {
      "image/png": "[encoded data removed]",
      "text/plain": [
       "<Figure size 432x288 with 1 Axes>"
      ]
     },
     "metadata": {
      "needs_background": "light"
     },
     "output_type": "display_data"
    }
   ],
   "source": [
    "hist(df[5])"
   ]
  },
  {
   "cell_type": "code",
   "execution_count": 32,
   "metadata": {},
   "outputs": [
    {
     "name": "stdout",
     "output_type": "stream",
     "text": [
      "0: RMSE(train) = 6598558.3114 \t RMSE(test) = 3044266.9491\n"
     ]
    },
    {
     "name": "stderr",
     "output_type": "stream",
     "text": [
      "/Users/mikhailsyasko/anaconda3/lib/python3.7/site-packages/numpy/core/fromnumeric.py:90: RuntimeWarning: overflow encountered in reduce\n",
      "  return ufunc.reduce(obj, axis, dtype, out, **passkwargs)\n",
      "/Users/mikhailsyasko/anaconda3/lib/python3.7/site-packages/ipykernel_launcher.py:5: RuntimeWarning: overflow encountered in multiply\n",
      "  \"\"\"\n",
      "/Users/mikhailsyasko/anaconda3/lib/python3.7/site-packages/ipykernel_launcher.py:5: RuntimeWarning: invalid value encountered in multiply\n",
      "  \"\"\"\n",
      "/Users/mikhailsyasko/anaconda3/lib/python3.7/site-packages/numpy/core/fromnumeric.py:90: RuntimeWarning: invalid value encountered in reduce\n",
      "  return ufunc.reduce(obj, axis, dtype, out, **passkwargs)\n"
     ]
    },
    {
     "name": "stdout",
     "output_type": "stream",
     "text": [
      "1000: RMSE(train) = nan \t RMSE(test) = nan\n",
      "2000: RMSE(train) = nan \t RMSE(test) = nan\n",
      "3000: RMSE(train) = nan \t RMSE(test) = nan\n",
      "4000: RMSE(train) = nan \t RMSE(test) = nan\n",
      "5000: RMSE(train) = nan \t RMSE(test) = nan\n",
      "6000: RMSE(train) = nan \t RMSE(test) = nan\n",
      "7000: RMSE(train) = nan \t RMSE(test) = nan\n",
      "8000: RMSE(train) = nan \t RMSE(test) = nan\n",
      "9000: RMSE(train) = nan \t RMSE(test) = nan\n",
      "fold index 0: r2 = nan\n",
      "0: RMSE(train) = 8996805.4417 \t RMSE(test) = 7860073.2536\n",
      "1000: RMSE(train) = nan \t RMSE(test) = nan\n",
      "2000: RMSE(train) = nan \t RMSE(test) = nan\n",
      "3000: RMSE(train) = nan \t RMSE(test) = nan\n",
      "4000: RMSE(train) = nan \t RMSE(test) = nan\n",
      "5000: RMSE(train) = nan \t RMSE(test) = nan\n",
      "6000: RMSE(train) = nan \t RMSE(test) = nan\n",
      "7000: RMSE(train) = nan \t RMSE(test) = nan\n",
      "8000: RMSE(train) = nan \t RMSE(test) = nan\n",
      "9000: RMSE(train) = nan \t RMSE(test) = nan\n",
      "fold index 1: r2 = nan\n",
      "0: RMSE(train) = 288242.9142 \t RMSE(test) = 529986.1924\n",
      "1000: RMSE(train) = nan \t RMSE(test) = nan\n",
      "2000: RMSE(train) = nan \t RMSE(test) = nan\n",
      "3000: RMSE(train) = nan \t RMSE(test) = nan\n",
      "4000: RMSE(train) = nan \t RMSE(test) = nan\n",
      "5000: RMSE(train) = nan \t RMSE(test) = nan\n",
      "6000: RMSE(train) = nan \t RMSE(test) = nan\n",
      "7000: RMSE(train) = nan \t RMSE(test) = nan\n",
      "8000: RMSE(train) = nan \t RMSE(test) = nan\n",
      "9000: RMSE(train) = nan \t RMSE(test) = nan\n",
      "fold index 2: r2 = nan\n",
      "0: RMSE(train) = 8439289.595 \t RMSE(test) = 3382998.5609\n",
      "1000: RMSE(train) = nan \t RMSE(test) = nan\n",
      "2000: RMSE(train) = nan \t RMSE(test) = nan\n",
      "3000: RMSE(train) = nan \t RMSE(test) = nan\n",
      "4000: RMSE(train) = nan \t RMSE(test) = nan\n",
      "5000: RMSE(train) = nan \t RMSE(test) = nan\n",
      "6000: RMSE(train) = nan \t RMSE(test) = nan\n",
      "7000: RMSE(train) = nan \t RMSE(test) = nan\n",
      "8000: RMSE(train) = nan \t RMSE(test) = nan\n",
      "9000: RMSE(train) = nan \t RMSE(test) = nan\n",
      "fold index 3: r2 = nan\n",
      "0: RMSE(train) = 1397993.902 \t RMSE(test) = 1878511.135\n",
      "1000: RMSE(train) = nan \t RMSE(test) = nan\n",
      "2000: RMSE(train) = nan \t RMSE(test) = nan\n",
      "3000: RMSE(train) = nan \t RMSE(test) = nan\n",
      "4000: RMSE(train) = nan \t RMSE(test) = nan\n",
      "5000: RMSE(train) = nan \t RMSE(test) = nan\n",
      "6000: RMSE(train) = nan \t RMSE(test) = nan\n",
      "7000: RMSE(train) = nan \t RMSE(test) = nan\n",
      "8000: RMSE(train) = nan \t RMSE(test) = nan\n",
      "9000: RMSE(train) = nan \t RMSE(test) = nan\n",
      "fold index 4: r2 = nan\n"
     ]
    },
    {
     "data": {
      "text/plain": [
       "[nan, nan, nan, nan, nan]"
      ]
     },
     "execution_count": 32,
     "metadata": {},
     "output_type": "execute_result"
    }
   ],
   "source": [
    "CV(x, y, 5)"
   ]
  },
  {
   "cell_type": "code",
   "execution_count": null,
   "metadata": {},
   "outputs": [],
   "source": []
  }
 ],
 "metadata": {
  "kernelspec": {
   "display_name": "Python 3",
   "language": "python",
   "name": "python3"
  },
  "language_info": {
   "codemirror_mode": {
    "name": "ipython",
    "version": 3
   },
   "file_extension": ".py",
   "mimetype": "text/x-python",
   "name": "python",
   "nbconvert_exporter": "python",
   "pygments_lexer": "ipython3",
   "version": "3.7.4"
  }
 },
 "nbformat": 4,
 "nbformat_minor": 2
}
